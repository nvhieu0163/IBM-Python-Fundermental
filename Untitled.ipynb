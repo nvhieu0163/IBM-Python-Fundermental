{
 "cells": [
  {
   "cell_type": "code",
   "execution_count": 2,
   "id": "bad06add-ccd8-4cae-a25e-af1ee1f25e32",
   "metadata": {},
   "outputs": [
    {
     "data": {
      "text/plain": [
       "-14.166666666666671"
      ]
     },
     "execution_count": 2,
     "metadata": {},
     "output_type": "execute_result"
    }
   ],
   "source": [
    "12+56-986/12"
   ]
  },
  {
   "cell_type": "code",
   "execution_count": 3,
   "id": "6aa52600-2683-466c-81c0-965fc6e96c35",
   "metadata": {},
   "outputs": [
    {
     "data": {
      "text/plain": [
       "5.0"
      ]
     },
     "execution_count": 3,
     "metadata": {},
     "output_type": "execute_result"
    }
   ],
   "source": [
    "25/5"
   ]
  },
  {
   "cell_type": "code",
   "execution_count": 4,
   "id": "7a361594-3c96-4cdc-9018-7e654742a9ae",
   "metadata": {},
   "outputs": [
    {
     "data": {
      "text/plain": [
       "5"
      ]
     },
     "execution_count": 4,
     "metadata": {},
     "output_type": "execute_result"
    }
   ],
   "source": [
    "25//5"
   ]
  },
  {
   "cell_type": "code",
   "execution_count": 6,
   "id": "a55b90d3-3624-4a46-89d4-4426bc0018e9",
   "metadata": {},
   "outputs": [
    {
     "name": "stdout",
     "output_type": "stream",
     "text": [
      "0.3333333333333333\n",
      "0\n"
     ]
    }
   ],
   "source": [
    "print(1/3)\n",
    "print(1//3)"
   ]
  },
  {
   "cell_type": "code",
   "execution_count": 16,
   "id": "c6021b22-6c98-4df7-a102-730fe304bac7",
   "metadata": {},
   "outputs": [
    {
     "name": "stdout",
     "output_type": "stream",
     "text": [
      "(1, 2, 5, 7)\n"
     ]
    }
   ],
   "source": [
    "tuple1 = (1,2,5,7,8)\n",
    "print(tuple1[:4])"
   ]
  },
  {
   "cell_type": "code",
   "execution_count": 11,
   "id": "93ef5ec1-6419-4066-ae95-5fc84c3ff932",
   "metadata": {},
   "outputs": [
    {
     "data": {
      "text/plain": [
       "'2'"
      ]
     },
     "execution_count": 11,
     "metadata": {},
     "output_type": "execute_result"
    }
   ],
   "source": [
    "str(1+1)"
   ]
  }
 ],
 "metadata": {
  "kernelspec": {
   "display_name": "Python 3 (ipykernel)",
   "language": "python",
   "name": "python3"
  },
  "language_info": {
   "codemirror_mode": {
    "name": "ipython",
    "version": 3
   },
   "file_extension": ".py",
   "mimetype": "text/x-python",
   "name": "python",
   "nbconvert_exporter": "python",
   "pygments_lexer": "ipython3",
   "version": "3.10.6"
  }
 },
 "nbformat": 4,
 "nbformat_minor": 5
}
